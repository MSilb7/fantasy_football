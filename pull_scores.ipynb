{
 "cells": [
  {
   "cell_type": "code",
   "execution_count": 8,
   "metadata": {},
   "outputs": [],
   "source": [
    "import requests\n",
    "import pandas as pd\n",
    "import os\n",
    "import dotenv\n",
    "dotenv.load_dotenv()\n",
    "\n",
    "\n",
    "year = 2023\n",
    "league_id = os.getenv('league_id')\n",
    "espn_s2 = os.getenv('espn_s2')\n",
    "swid = os.getenv('swid')"
   ]
  },
  {
   "cell_type": "code",
   "execution_count": 9,
   "metadata": {},
   "outputs": [],
   "source": [
    "cookies = {\n",
    "    'espn_s2': espn_s2,\n",
    "    'SWID': swid\n",
    "}\n",
    "\n",
    "# Ensure we're using the correct endpoint and parameters to fetch the needed data\n",
    "url = f\"https://fantasy.espn.com/apis/v3/games/ffl/seasons/{year}/segments/0/leagues/{league_id}\"\n",
    "params = {\n",
    "    \"view\": \"mMatchupScore\"  # This view should give us the matchups and scores\n",
    "}\n",
    "\n",
    "response = requests.get(url, cookies=cookies, params=params)\n",
    "data = response.json()"
   ]
  },
  {
   "cell_type": "code",
   "execution_count": 10,
   "metadata": {},
   "outputs": [],
   "source": [
    "# Assuming 'schedule' is the correct key for matchups based on the API's usual structure\n",
    "matchups = data.get('schedule', [])\n",
    "\n",
    "# We'll also need to fetch team details for names and owners, possibly with a separate request or adjusted parameters\n",
    "team_info_url = f\"{url}?view=mTeam\"\n",
    "team_response = requests.get(team_info_url, cookies=cookies)\n",
    "teams_data = team_response.json()\n",
    "\n",
    "# print(teams_data.get('teams',[]))\n",
    "\n",
    "teams = {team['id']: {'name': team.get('name', '')\n",
    "                      } for team in teams_data.get('teams', [])}\n",
    "\n",
    "# print(teams)"
   ]
  },
  {
   "cell_type": "code",
   "execution_count": 11,
   "metadata": {},
   "outputs": [],
   "source": [
    "# Initialize a list for detailed matchup data\n",
    "detailed_data = []\n",
    "\n",
    "for week in matchups:\n",
    "    week_num = week.get('matchupPeriodId')\n",
    "    for matchup in ['home', 'away']:\n",
    "        team = week.get(matchup)\n",
    "        if team:\n",
    "            team_id = team.get('teamId')\n",
    "            score = team.get('totalPoints')\n",
    "            team_name = teams.get(team_id, {}).get('name', 'Unknown Team')\n",
    "            # owner = teams.get(team_id, {}).get('owner', 'Unknown Owner')\n",
    "\n",
    "            detailed_data.append({\n",
    "                'Week': week_num,\n",
    "                'Team ID': team_id,\n",
    "                'Score': score,\n",
    "                'Team Name': team_name,\n",
    "                # 'Owner': owner\n",
    "            })\n",
    "\n",
    "# Convert to DataFrame\n",
    "df = pd.DataFrame(detailed_data)"
   ]
  },
  {
   "cell_type": "code",
   "execution_count": 12,
   "metadata": {},
   "outputs": [],
   "source": [
    "# df"
   ]
  },
  {
   "cell_type": "code",
   "execution_count": 13,
   "metadata": {},
   "outputs": [],
   "source": [
    "# Find highest scoring team for each week\n",
    "highest_scores_per_week = df.sort_values('Score', ascending=False).drop_duplicates(['Week'])\n",
    "# Now sort the resulting DataFrame in ascending order by 'Week'\n",
    "highest_scores_per_week = highest_scores_per_week.sort_values('Week', ascending=True)"
   ]
  },
  {
   "cell_type": "code",
   "execution_count": 14,
   "metadata": {},
   "outputs": [
    {
     "name": "stdout",
     "output_type": "stream",
     "text": [
      "     Week               Team Name   Score\n",
      "6       1       Bloodbath Mcgrath  131.56\n",
      "21      2       Bloodbath Mcgrath  159.26\n",
      "24      3             lil' Scamps  151.56\n",
      "47      4             Taylor Made  150.10\n",
      "59      5             Taylor Made  151.58\n",
      "64      6             BEC Michael  125.66\n",
      "82      7               EL Diablo  149.26\n",
      "85      8             BEC Michael  126.40\n",
      "98      9             BEC Michael  139.50\n",
      "119    10           Naturally Lit  134.48\n",
      "130    11            BDE Culture   135.30\n",
      "141    12             BEC Michael  133.06\n",
      "154    13             BEC Michael  143.96\n",
      "157    14             lil' Scamps  142.44\n",
      "170    15  Make Gronk Great Again  146.06\n",
      "181    16  Make Gronk Great Again  136.38\n",
      "195    17             Taylor Made  166.22\n"
     ]
    }
   ],
   "source": [
    "hs_df = highest_scores_per_week[['Week', 'Team Name', 'Score']].set_index('Week')\n",
    "hs_df.to_csv('outputs/weekly_high_scores_' + str(year) + '.csv')\n",
    "\n",
    "print(hs_df)"
   ]
  }
 ],
 "metadata": {
  "kernelspec": {
   "display_name": "Python 3",
   "language": "python",
   "name": "python3"
  },
  "language_info": {
   "codemirror_mode": {
    "name": "ipython",
    "version": 3
   },
   "file_extension": ".py",
   "mimetype": "text/x-python",
   "name": "python",
   "nbconvert_exporter": "python",
   "pygments_lexer": "ipython3",
   "version": "3.10.8"
  }
 },
 "nbformat": 4,
 "nbformat_minor": 2
}
