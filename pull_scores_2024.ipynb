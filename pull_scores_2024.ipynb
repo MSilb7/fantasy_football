{
 "cells": [
  {
   "cell_type": "code",
   "execution_count": 1,
   "metadata": {},
   "outputs": [
    {
     "name": "stderr",
     "output_type": "stream",
     "text": [
      "/Users/michaelsilberling/opt/anaconda3/envs/py10/lib/python3.10/site-packages/pandas/core/arrays/masked.py:60: UserWarning: Pandas requires version '1.3.6' or newer of 'bottleneck' (version '1.3.5' currently installed).\n",
      "  from pandas.core import (\n"
     ]
    }
   ],
   "source": [
    "import requests\n",
    "import pandas as pd\n",
    "import os\n",
    "import dotenv\n",
    "import json\n",
    "\n",
    "dotenv.load_dotenv()\n",
    "\n",
    "year = 2024\n",
    "league_id = os.getenv('league_id')\n",
    "espn_s2 = os.getenv('espn_s2')\n",
    "swid = os.getenv('swid')"
   ]
  },
  {
   "cell_type": "code",
   "execution_count": 2,
   "metadata": {},
   "outputs": [],
   "source": [
    "cookies = {\n",
    "    'espn_s2': espn_s2,\n",
    "    'SWID': swid\n",
    "}\n",
    "\n",
    "# Updated API endpoint\n",
    "url = f\"https://lm-api-reads.fantasy.espn.com/apis/v3/games/ffl/seasons/{year}/segments/0/leagues/{league_id}\"\n",
    "\n",
    "params = {\n",
    "    \"view\": [\"mMatchup\", \"mMatchupScore\"]\n",
    "}\n",
    "\n",
    "headers = {\n",
    "    \"X-Fantasy-Filter\": json.dumps({\"schedule\": {\"filterMatchupPeriodIds\": {\"value\": list(range(1, 18))}}})\n",
    "}"
   ]
  },
  {
   "cell_type": "code",
   "execution_count": 3,
   "metadata": {},
   "outputs": [],
   "source": [
    "try:\n",
    "    response = requests.get(url, cookies=cookies, params=params, headers=headers)\n",
    "    response.raise_for_status()\n",
    "    data = response.json()\n",
    "except requests.exceptions.RequestException as e:\n",
    "    print(f\"Error fetching data: {e}\")\n",
    "    print(f\"Response content: {response.content}\")\n",
    "    exit(1)"
   ]
  },
  {
   "cell_type": "code",
   "execution_count": 4,
   "metadata": {},
   "outputs": [],
   "source": [
    "# Fetch team information\n",
    "team_info_url = f\"{url}?view=mTeam\"\n",
    "try:\n",
    "    team_response = requests.get(team_info_url, cookies=cookies)\n",
    "    team_response.raise_for_status()\n",
    "    teams_data = team_response.json()\n",
    "except requests.exceptions.RequestException as e:\n",
    "    print(f\"Error fetching team data: {e}\")\n",
    "    print(f\"Response content: {team_response.content}\")\n",
    "    exit(1)\n",
    "\n",
    "teams = {team['id']: {'name': team.get('name', '')} for team in teams_data.get('teams', [])}"
   ]
  },
  {
   "cell_type": "code",
   "execution_count": 5,
   "metadata": {},
   "outputs": [],
   "source": [
    "detailed_data = []\n",
    "\n",
    "for matchup in data.get('schedule', []):\n",
    "    week_num = matchup.get('matchupPeriodId')\n",
    "    for team_type in ['home', 'away']:\n",
    "        team = matchup.get(team_type)\n",
    "        if team:\n",
    "            team_id = team.get('teamId')\n",
    "            score = team.get('totalPoints')\n",
    "            team_name = teams.get(team_id, {}).get('name', 'Unknown Team')\n",
    "\n",
    "            detailed_data.append({\n",
    "                'Week': week_num,\n",
    "                'Team ID': team_id,\n",
    "                'Score': score,\n",
    "                'Team Name': team_name,\n",
    "            })"
   ]
  },
  {
   "cell_type": "code",
   "execution_count": 6,
   "metadata": {},
   "outputs": [
    {
     "name": "stdout",
     "output_type": "stream",
     "text": [
      "                        Team Name   Score\n",
      "Week                                     \n",
      "1                     Cobra Kyler  133.78\n",
      "2                       EL Diablo  160.44\n",
      "3               Bloodbath Mcgrath  141.28\n",
      "4                   Naturally Lit  136.10\n",
      "5                     BEC Michael  149.32\n",
      "6                    BDE Culture   144.06\n",
      "7                     BEC Michael  161.74\n",
      "8                     BEC Michael  165.36\n",
      "9                    BDE Culture   156.06\n",
      "10                    BEC Michael  132.20\n",
      "11                    Taylor Made  139.94\n",
      "12              Bloodbath Mcgrath  144.50\n",
      "13                    BEC Michael  137.78\n",
      "14    Billy Napier's Fantasy Team  151.34\n",
      "15                    BEC Michael  172.40\n",
      "16                   BDE Culture   144.82\n",
      "17                    BEC Michael    0.00\n"
     ]
    }
   ],
   "source": [
    "df = pd.DataFrame(detailed_data)\n",
    "\n",
    "highest_scores_per_week = df.sort_values('Score', ascending=False).drop_duplicates(['Week'])\n",
    "highest_scores_per_week = highest_scores_per_week.sort_values('Week', ascending=True)\n",
    "\n",
    "hs_df = highest_scores_per_week[['Week', 'Team Name', 'Score']].set_index('Week')\n",
    "hs_df.to_csv(f'outputs/weekly_high_scores_{year}.csv')\n",
    "\n",
    "print(hs_df)"
   ]
  }
 ],
 "metadata": {
  "kernelspec": {
   "display_name": "py10",
   "language": "python",
   "name": "python3"
  },
  "language_info": {
   "codemirror_mode": {
    "name": "ipython",
    "version": 3
   },
   "file_extension": ".py",
   "mimetype": "text/x-python",
   "name": "python",
   "nbconvert_exporter": "python",
   "pygments_lexer": "ipython3",
   "version": "3.10.8"
  }
 },
 "nbformat": 4,
 "nbformat_minor": 2
}
